{
  "nbformat": 4,
  "nbformat_minor": 0,
  "metadata": {
    "colab": {
      "name": "jagathesh.ipynp",
      "provenance": [],
      "collapsed_sections": []
    },
    "kernelspec": {
      "name": "python3",
      "display_name": "Python 3"
    },
    "language_info": {
      "name": "python"
    }
  },
  "cells": [
    {
      "cell_type": "code",
      "metadata": {
        "colab": {
          "base_uri": "https://localhost:8080/",
          "height": 131
        },
        "id": "GWptuUvCVzpb",
        "outputId": "9913ad4d-0a37-4a47-d427-2cbd587678c6"
      },
      "source": [
        "import numpy as np\n",
        "import pandas as pd\n",
        "import sklearn\n",
        "from sklearn.datasets import load_boston\n",
        "df=load_boston()\n",
        "print(df.DESCR)\n",
        "boston=pd.DataFrame(dfdata,columns=df.feature_names)\n",
        "boston.head()\n",
        "boston.['medv']=df.target\n",
        "boston.head()\n",
        "boston.isnull.sum()\n",
        "from sklearn.model_selection import train_test_split\n",
        "x=boston.drop('medv',axis=1)\n",
        "y=boston['medv']\n",
        "x_train,x_test,y_train,y_test=train_test_split(x,y,test_size=0.15,random_state=5)\n",
        "print(x_train.shape)\n",
        "print(x_test.shape)\n",
        "print(y_train.shape)\n",
        "print(y_test.shape)\n",
        "from sklearn.linear_model import Linear Regression\n",
        "from sklearn.metrics import mean_squared_error\n",
        "lin_model=Linear Regression()\n",
        "lin_model.fit(x_train,y_train)\n",
        "y_train_predict=lin_model.predict(x_train)\n",
        "rmse=(np.sqrt(mean_squared_error(y_train,y_train_predict )))\n",
        "print(\"the model performance for train set\")\n",
        "print(\"the model performance for training set\")\n",
        "print('RMSE is{}',format(rmse))\n",
        "print(\"\\n\")\n",
        "y_train_predict=lin_model.predict(x-test)\n",
        "rmse=(np.sqrt(mean_squared_error(y_test,y_test_predict )))\n",
        "print(\"the model performance for testing set\")\n",
        "print('RMSE is{}',format(rmse))\n",
        "\n"
      ],
      "execution_count": 2,
      "outputs": [
        {
          "output_type": "error",
          "ename": "SyntaxError",
          "evalue": "ignored",
          "traceback": [
            "\u001b[0;36m  File \u001b[0;32m\"<ipython-input-2-8131254e5b64>\"\u001b[0;36m, line \u001b[0;32m9\u001b[0m\n\u001b[0;31m    boston.['MEDV']=df.target\u001b[0m\n\u001b[0m           ^\u001b[0m\n\u001b[0;31mSyntaxError\u001b[0m\u001b[0;31m:\u001b[0m invalid syntax\n"
          ]
        }
      ]
    }
  ]
}